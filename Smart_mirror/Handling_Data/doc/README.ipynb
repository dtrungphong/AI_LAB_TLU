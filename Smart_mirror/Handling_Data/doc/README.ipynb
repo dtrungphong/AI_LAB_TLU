{
 "cells": [
  {
   "cell_type": "markdown",
   "metadata": {},
   "source": [
    "# Tổng quan"
   ]
  },
  {
   "cell_type": "markdown",
   "metadata": {},
   "source": [
    "> - Mô tả về chức năng\n",
    "> - Hướng dẫn tổ chức file"
   ]
  },
  {
   "cell_type": "markdown",
   "metadata": {},
   "source": [
    "## Mô tả chức năng\n",
    "- Giới thiệu về trường: \n",
    "    + Giới thiệu lịch sử, các thông tin về ngành học có trong trường, điểm nổi bật."
   ]
  },
  {
   "cell_type": "markdown",
   "metadata": {},
   "source": [
    "- Tra cứu môn học:\n",
    "    + Mục đích: Có thể xem môn A học phòng nào, giáo viên dạy là ai.\n",
    "    + Ví dụ: Môn đại số tuyến tính lớp 5.1 lý thuyết học phòng nào?"
   ]
  },
  {
   "cell_type": "markdown",
   "metadata": {},
   "source": [
    "- Thông tin mở lớp:\n",
    "    + Mục đích: Có thể xem thông tin nhóm này kỳ tới có mở môn A không, mở những môn gì?\n",
    "    + Ví dụ: Môn đại số tuyến tính kỳ 3 nhóm 2 có mở hay không?"
   ]
  },
  {
   "cell_type": "markdown",
   "metadata": {},
   "source": [
    "- Thông tin liên lạc giảng viên:\n",
    "    + Mục đích: Sinh viên muốn xin thông tin liên lạc giảng viên.\n",
    "    + Ví dụ: Tôi muốn xin thông tin liên lạc của thầy A?\n"
   ]
  },
  {
   "cell_type": "markdown",
   "metadata": {},
   "source": [
    "- Hướng dẫn chỉ đường:\n",
    "    - Mục đích: Có thể chỉ đường đến tìm ai, hay đến đâu, để làm thủ tục A đến đâu hay xử lý vấn đề gì cần đến đâu.\n",
    "    - Ví dụ: Tôi muốn làm vé xe bus phải đến phòng nào?"
   ]
  },
  {
   "cell_type": "markdown",
   "metadata": {},
   "source": [
    "## Hướng dẫn tổ chức file"
   ]
  },
  {
   "cell_type": "markdown",
   "metadata": {},
   "source": [
    "- Thu thập và soạn thảo các câu hỏi dưới dạng file word\n",
    "- Mỗi file word chỉ chứa các câu hỏi liên quan đến 1 câu trả lời nhất định\n",
    "- Trong một folder có nhiều file\n",
    "- File câu hỏi riêng, câu trả lời riêng.\n",
    "- Folder hoặc file sẽ lưu dưới dạng tiếng việt không dấu và nối nhau bởi dấu gạch chân"
   ]
  },
  {
   "cell_type": "markdown",
   "metadata": {},
   "source": [
    "!(image)[asdas]"
   ]
  },
  {
   "cell_type": "code",
   "execution_count": null,
   "metadata": {},
   "outputs": [],
   "source": []
  }
 ],
 "metadata": {
  "kernelspec": {
   "display_name": "Python 3",
   "language": "python",
   "name": "python3"
  },
  "language_info": {
   "codemirror_mode": {
    "name": "ipython",
    "version": 3
   },
   "file_extension": ".py",
   "mimetype": "text/x-python",
   "name": "python",
   "nbconvert_exporter": "python",
   "pygments_lexer": "ipython3",
   "version": "3.7.4"
  }
 },
 "nbformat": 4,
 "nbformat_minor": 2
}
