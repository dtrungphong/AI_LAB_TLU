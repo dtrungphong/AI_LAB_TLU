{
 "cells": [
  {
   "cell_type": "markdown",
   "metadata": {},
   "source": [
    "# KỸ NĂNG ĐỌC BÁO (Reading paper)\n",
    "\n",
    "## 1. Mục Đích\n",
    "- Giúp sinh viên thực tập có thể hiểu được và cập nhật được các mô hình, thuật toán, bài toán đã được thử nghiệm trên thế giới\n",
    "- Giúp sinh viên cải thiện khả năng đọc hiểu tiếng Anh\n",
    "- Giúp sinh viên rèn luyện khả năng làm việc nhóm và thuyết trình\n",
    "\n",
    "## 2. Yêu Cầu\n",
    "- Hàng tuần sinh viên sẽ được giao >=3 bài báo trong đó mỗi nhóm sẽ chọn ra 1 bài chung trong tổng số bài báo được đưa ra để thuyết trình. Những bài còn lại sinh viên sẽ tự làm một mình thành tài liệu và gửi lại vào mail **p.ai@thanglong.edu.vn**\n",
    "- Về phần bài thuyết trình phải chỉ rõ ra công việc cụ thể ai làm gì để có mức đánh giá hợp lý về bài làm chung của nhóm\n",
    "- Đánh giá khả năng của sinh viên\n",
    "\n",
    "## 3. Hướng dẫn\n",
    "\n",
    "- [Form link hướng dẫn](https://docs.google.com/document/d/1fyY_BLhmIDfcDA8mqdYuwY15SwJ3Ru8hiHcNnq3VY7Q/edit?usp=sharing). Dựa trên đó có thể trả lời các câu hỏi để tìm trong bài báo có những thứ gì để xây dựng tài liệu về bài báo đó.\n",
    "\n",
    "- [Link phân chia công việc](https://docs.google.com/spreadsheets/d/1A4RctZVwpMEW2iAyOWGnuMnTv0XSmOaO9vVHKv42w7o/edit?usp=sharing)\n",
    "\n",
    "\n",
    "## 4. Tổng kết\n",
    "\n",
    "- Sau quá trình thực tập sẽ có bảng đánh giá về sinh viên đó!"
   ]
  },
  {
   "cell_type": "code",
   "execution_count": null,
   "metadata": {},
   "outputs": [],
   "source": []
  }
 ],
 "metadata": {
  "kernelspec": {
   "display_name": "Python 3",
   "language": "python",
   "name": "python3"
  },
  "language_info": {
   "codemirror_mode": {
    "name": "ipython",
    "version": 3
   },
   "file_extension": ".py",
   "mimetype": "text/x-python",
   "name": "python",
   "nbconvert_exporter": "python",
   "pygments_lexer": "ipython3",
   "version": "3.7.4"
  }
 },
 "nbformat": 4,
 "nbformat_minor": 2
}
